{
 "cells": [
  {
   "cell_type": "code",
   "execution_count": 40,
   "metadata": {},
   "outputs": [],
   "source": [
    "import xgboost as xg\n",
    "import pandas as pd\n",
    "import numpy as np\n",
    "from math import sqrt\n",
    "\n",
    "from sklearn.feature_extraction.text import TfidfVectorizer\n",
    "from sklearn.model_selection import train_test_split\n",
    "from sklearn.cross_validation import StratifiedKFold\n",
    "from sklearn.grid_search import GridSearchCV\n",
    "from sklearn.metrics import accuracy_score\n",
    "from sklearn.metrics import mean_squared_error"
   ]
  },
  {
   "cell_type": "code",
   "execution_count": 41,
   "metadata": {},
   "outputs": [],
   "source": [
    "#train_data=pd.read_csv(\"training_data.csv\")\n",
    "#test_data=pd.read_csv(\"test_data.csv\")\n",
    "train_data=pd.read_csv(\"train_after_nltk_without_negative.csv\", index_col=0)\n",
    "test_data=pd.read_csv(\"test_after_nltk_without_negative.csv\", index_col=0)"
   ]
  },
  {
   "cell_type": "code",
   "execution_count": 42,
   "metadata": {},
   "outputs": [],
   "source": [
    "train_data[\"text\"] = train_data[\"text\"].astype(str)\n",
    "test_data[\"text\"] = test_data[\"text\"].astype(str)\n",
    "train_text = train_data[\"text\"]\n",
    "train_label = train_data[\"stars\"]\n",
    "test_Idx = test_data[\"review_id\"]\n",
    "test_text = test_data[\"text\"]"
   ]
  },
  {
   "cell_type": "code",
   "execution_count": 43,
   "metadata": {},
   "outputs": [],
   "source": [
    "# Use TF-IDF to vectorize the text with minimun DF = 2 to filt out some strange words\n",
    "tfidf_vectorizer = TfidfVectorizer(min_df=2)\n",
    "tfidf_vectorizer.fit(train_text)\n",
    "#for train\n",
    "train_text_tfidf = tfidf_vectorizer.transform(train_text)\n",
    "#for test\n",
    "test_text_tfidf = tfidf_vectorizer.transform(test_text)"
   ]
  },
  {
   "cell_type": "code",
   "execution_count": 44,
   "metadata": {},
   "outputs": [
    {
     "name": "stdout",
     "output_type": "stream",
     "text": [
      "(7997, 10972)\n",
      "(2003, 10972)\n"
     ]
    }
   ],
   "source": [
    "print(train_text_tfidf.shape)\n",
    "print(test_text_tfidf.shape)"
   ]
  },
  {
   "cell_type": "code",
   "execution_count": 47,
   "metadata": {},
   "outputs": [],
   "source": [
    "train_data = train_text_tfidf.toarray()\n",
    "test_data = test_text_tfidf.toarray()\n",
    "del train_text, test_text, train_text_tfidf, test_text_tfidf"
   ]
  },
  {
   "cell_type": "code",
   "execution_count": 49,
   "metadata": {},
   "outputs": [
    {
     "name": "stdout",
     "output_type": "stream",
     "text": [
      "RMSE score: 0.8789535680110622\n",
      "colsample_bytree: 0.8\n",
      "gamma: 0\n",
      "learning_rate: 0.05\n",
      "max_depth: 4\n",
      "min_child_weight: 1\n",
      "n_estimators: 300\n",
      "objective: 'reg:linear'\n",
      "seed: 9\n",
      "silent: 1\n",
      "subsample: 0.8\n"
     ]
    }
   ],
   "source": [
    "# Train the Xgboost Model with 5 folds CV \n",
    "parameters = {'objective':['reg:linear'],\n",
    "              'learning_rate': [0.05],\n",
    "              'max_depth': [4],\n",
    "              'min_child_weight': [1],\n",
    "              'subsample': [0.8],\n",
    "              'colsample_bytree': [0.8],\n",
    "              'gamma':[0],\n",
    "              'n_estimators': [300],\n",
    "              'silent':[1],\n",
    "              'seed': [9]\n",
    "             }\n",
    "xgb_model = xg.XGBRegressor()\n",
    "\n",
    "clf = GridSearchCV(xgb_model, parameters, n_jobs=5, \n",
    "                   cv=StratifiedKFold(train_label, n_folds=5, shuffle=True), \n",
    "                   scoring='neg_mean_squared_error', refit=True)\n",
    "\n",
    "clf.fit(train_data, train_label)\n",
    "\n",
    "best_parameters, score, _ = max(clf.grid_scores_, key=lambda x: x[1])\n",
    "print('RMSE score:', -1*score)\n",
    "for param_name in sorted(best_parameters.keys()):\n",
    "    print(\"%s: %r\" % (param_name, best_parameters[param_name]))"
   ]
  },
  {
   "cell_type": "code",
   "execution_count": 53,
   "metadata": {},
   "outputs": [
    {
     "name": "stdout",
     "output_type": "stream",
     "text": [
      "Accuracy: 46.56%\n",
      "RMSE: 0.81\n"
     ]
    }
   ],
   "source": [
    "# Evaluate the model\n",
    "X_train, X_valid, y_train, y_valid = train_test_split(train_data,train_label,test_size=0.2,random_state=9)\n",
    "y_valid_pred = clf.predict(X_valid)\n",
    "accuracy = accuracy_score(y_valid, np.round(y_valid_pred).astype(int))\n",
    "rmse = sqrt(mean_squared_error(y_valid, y_valid_pred))\n",
    "print(\"Accuracy: %.2f%%\" % (accuracy * 100.0))\n",
    "print(\"RMSE: %.2f\" % rmse)"
   ]
  },
  {
   "cell_type": "code",
   "execution_count": 54,
   "metadata": {},
   "outputs": [],
   "source": [
    "# Predict on the test data\n",
    "test_Id = pd.DataFrame({\"id\": test_Idx})\n",
    "predictions = clf.predict(test_data)\n",
    "submission = pd.DataFrame({\"stars\": predictions})\n",
    "submission = test_Id.join(submission)\n",
    "submission.to_csv(\"result_nltk_xgb.csv\", index=False,header=False)"
   ]
  },
  {
   "cell_type": "code",
   "execution_count": 55,
   "metadata": {},
   "outputs": [
    {
     "data": {
      "text/html": [
       "<div>\n",
       "<style scoped>\n",
       "    .dataframe tbody tr th:only-of-type {\n",
       "        vertical-align: middle;\n",
       "    }\n",
       "\n",
       "    .dataframe tbody tr th {\n",
       "        vertical-align: top;\n",
       "    }\n",
       "\n",
       "    .dataframe thead th {\n",
       "        text-align: right;\n",
       "    }\n",
       "</style>\n",
       "<table border=\"1\" class=\"dataframe\">\n",
       "  <thead>\n",
       "    <tr style=\"text-align: right;\">\n",
       "      <th></th>\n",
       "      <th>id</th>\n",
       "      <th>stars</th>\n",
       "    </tr>\n",
       "  </thead>\n",
       "  <tbody>\n",
       "    <tr>\n",
       "      <th>0</th>\n",
       "      <td>2713</td>\n",
       "      <td>2.955585</td>\n",
       "    </tr>\n",
       "    <tr>\n",
       "      <th>1</th>\n",
       "      <td>4734</td>\n",
       "      <td>4.160178</td>\n",
       "    </tr>\n",
       "    <tr>\n",
       "      <th>2</th>\n",
       "      <td>5598</td>\n",
       "      <td>4.194613</td>\n",
       "    </tr>\n",
       "    <tr>\n",
       "      <th>3</th>\n",
       "      <td>9545</td>\n",
       "      <td>3.795750</td>\n",
       "    </tr>\n",
       "    <tr>\n",
       "      <th>4</th>\n",
       "      <td>1471</td>\n",
       "      <td>3.254804</td>\n",
       "    </tr>\n",
       "  </tbody>\n",
       "</table>\n",
       "</div>"
      ],
      "text/plain": [
       "     id     stars\n",
       "0  2713  2.955585\n",
       "1  4734  4.160178\n",
       "2  5598  4.194613\n",
       "3  9545  3.795750\n",
       "4  1471  3.254804"
      ]
     },
     "execution_count": 55,
     "metadata": {},
     "output_type": "execute_result"
    }
   ],
   "source": [
    "submission.head()"
   ]
  },
  {
   "cell_type": "code",
   "execution_count": null,
   "metadata": {},
   "outputs": [],
   "source": []
  }
 ],
 "metadata": {
  "kernelspec": {
   "display_name": "Python 3",
   "language": "python",
   "name": "python3"
  },
  "language_info": {
   "codemirror_mode": {
    "name": "ipython",
    "version": 3
   },
   "file_extension": ".py",
   "mimetype": "text/x-python",
   "name": "python",
   "nbconvert_exporter": "python",
   "pygments_lexer": "ipython3",
   "version": "3.6.4"
  },
  "widgets": {
   "state": {},
   "version": "1.1.2"
  }
 },
 "nbformat": 4,
 "nbformat_minor": 2
}

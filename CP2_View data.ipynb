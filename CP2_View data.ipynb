{
 "cells": [
  {
   "cell_type": "code",
   "execution_count": 1,
   "metadata": {},
   "outputs": [
    {
     "name": "stdout",
     "output_type": "stream",
     "text": [
      "(7997, 6)\n",
      "Index(['review_id', 'business_id', 'user_id', 'text', 'date', 'stars'], dtype='object')\n",
      "(2003, 5)\n"
     ]
    }
   ],
   "source": [
    "import pandas as pd\n",
    "import numpy as np\n",
    "import matplotlib.pyplot as plt\n",
    "import seaborn as sns\n",
    "%matplotlib inline\n",
    "train_data=pd.read_csv(\"training_data.csv\")\n",
    "test_data=pd.read_csv(\"test_data.csv\")\n",
    "print(train_data.shape)\n",
    "print(train_data.columns)\n",
    "print(test_data.shape)\n",
    "test_Idx = test_data[\"review_id\"]\n",
    "test_Idx.to_pickle('test_Idx_pd.pkl')"
   ]
  },
  {
   "cell_type": "code",
   "execution_count": 2,
   "metadata": {},
   "outputs": [
    {
     "data": {
      "text/plain": [
       "(2003,)"
      ]
     },
     "execution_count": 2,
     "metadata": {},
     "output_type": "execute_result"
    }
   ],
   "source": [
    "test_Idx.shape"
   ]
  },
  {
   "cell_type": "code",
   "execution_count": 3,
   "metadata": {},
   "outputs": [
    {
     "data": {
      "text/html": [
       "<div>\n",
       "<style scoped>\n",
       "    .dataframe tbody tr th:only-of-type {\n",
       "        vertical-align: middle;\n",
       "    }\n",
       "\n",
       "    .dataframe tbody tr th {\n",
       "        vertical-align: top;\n",
       "    }\n",
       "\n",
       "    .dataframe thead th {\n",
       "        text-align: right;\n",
       "    }\n",
       "</style>\n",
       "<table border=\"1\" class=\"dataframe\">\n",
       "  <thead>\n",
       "    <tr style=\"text-align: right;\">\n",
       "      <th></th>\n",
       "      <th>review_id</th>\n",
       "      <th>business_id</th>\n",
       "      <th>user_id</th>\n",
       "      <th>text</th>\n",
       "      <th>date</th>\n",
       "      <th>stars</th>\n",
       "    </tr>\n",
       "  </thead>\n",
       "  <tbody>\n",
       "    <tr>\n",
       "      <th>0</th>\n",
       "      <td>3223</td>\n",
       "      <td>2055</td>\n",
       "      <td>2533</td>\n",
       "      <td>Sometimes things happen, and when they do this...</td>\n",
       "      <td>2010-12-30</td>\n",
       "      <td>5</td>\n",
       "    </tr>\n",
       "    <tr>\n",
       "      <th>1</th>\n",
       "      <td>9938</td>\n",
       "      <td>4165</td>\n",
       "      <td>6371</td>\n",
       "      <td>I know Kerrie through my networking and we ben...</td>\n",
       "      <td>2011-04-26</td>\n",
       "      <td>5</td>\n",
       "    </tr>\n",
       "    <tr>\n",
       "      <th>2</th>\n",
       "      <td>7123</td>\n",
       "      <td>869</td>\n",
       "      <td>4929</td>\n",
       "      <td>Love their pizza!!!\\nVery fresh. Their cannoli...</td>\n",
       "      <td>2012-09-28</td>\n",
       "      <td>5</td>\n",
       "    </tr>\n",
       "    <tr>\n",
       "      <th>3</th>\n",
       "      <td>3601</td>\n",
       "      <td>1603</td>\n",
       "      <td>2789</td>\n",
       "      <td>Being from NJ I am always on the prowl for my ...</td>\n",
       "      <td>2009-06-07</td>\n",
       "      <td>4</td>\n",
       "    </tr>\n",
       "    <tr>\n",
       "      <th>4</th>\n",
       "      <td>3948</td>\n",
       "      <td>2347</td>\n",
       "      <td>1245</td>\n",
       "      <td>We have tried this spot a few times and each v...</td>\n",
       "      <td>2011-02-20</td>\n",
       "      <td>4</td>\n",
       "    </tr>\n",
       "  </tbody>\n",
       "</table>\n",
       "</div>"
      ],
      "text/plain": [
       "   review_id  business_id  user_id  \\\n",
       "0       3223         2055     2533   \n",
       "1       9938         4165     6371   \n",
       "2       7123          869     4929   \n",
       "3       3601         1603     2789   \n",
       "4       3948         2347     1245   \n",
       "\n",
       "                                                text        date  stars  \n",
       "0  Sometimes things happen, and when they do this...  2010-12-30      5  \n",
       "1  I know Kerrie through my networking and we ben...  2011-04-26      5  \n",
       "2  Love their pizza!!!\\nVery fresh. Their cannoli...  2012-09-28      5  \n",
       "3  Being from NJ I am always on the prowl for my ...  2009-06-07      4  \n",
       "4  We have tried this spot a few times and each v...  2011-02-20      4  "
      ]
     },
     "execution_count": 3,
     "metadata": {},
     "output_type": "execute_result"
    }
   ],
   "source": [
    "train_data.head()"
   ]
  },
  {
   "cell_type": "code",
   "execution_count": 4,
   "metadata": {},
   "outputs": [
    {
     "data": {
      "text/html": [
       "<div>\n",
       "<style scoped>\n",
       "    .dataframe tbody tr th:only-of-type {\n",
       "        vertical-align: middle;\n",
       "    }\n",
       "\n",
       "    .dataframe tbody tr th {\n",
       "        vertical-align: top;\n",
       "    }\n",
       "\n",
       "    .dataframe thead th {\n",
       "        text-align: right;\n",
       "    }\n",
       "</style>\n",
       "<table border=\"1\" class=\"dataframe\">\n",
       "  <thead>\n",
       "    <tr style=\"text-align: right;\">\n",
       "      <th></th>\n",
       "      <th>review_id</th>\n",
       "      <th>business_id</th>\n",
       "      <th>user_id</th>\n",
       "      <th>text</th>\n",
       "      <th>date</th>\n",
       "    </tr>\n",
       "  </thead>\n",
       "  <tbody>\n",
       "    <tr>\n",
       "      <th>0</th>\n",
       "      <td>2713</td>\n",
       "      <td>668</td>\n",
       "      <td>2196</td>\n",
       "      <td>Ticoz is not a bad place.  The menu is eclecti...</td>\n",
       "      <td>2009-01-04</td>\n",
       "    </tr>\n",
       "    <tr>\n",
       "      <th>1</th>\n",
       "      <td>4734</td>\n",
       "      <td>1014</td>\n",
       "      <td>3521</td>\n",
       "      <td>Wow!\\nBeing a Phoenix native, we have enjoyed ...</td>\n",
       "      <td>2010-10-05</td>\n",
       "    </tr>\n",
       "    <tr>\n",
       "      <th>2</th>\n",
       "      <td>5598</td>\n",
       "      <td>2939</td>\n",
       "      <td>3028</td>\n",
       "      <td>Jodi is fantastic!  Extraordinary!  After too ...</td>\n",
       "      <td>2011-04-29</td>\n",
       "    </tr>\n",
       "    <tr>\n",
       "      <th>3</th>\n",
       "      <td>9545</td>\n",
       "      <td>4077</td>\n",
       "      <td>6200</td>\n",
       "      <td>T&amp;S Glass did a wonderful job replacing my car...</td>\n",
       "      <td>2007-10-02</td>\n",
       "    </tr>\n",
       "    <tr>\n",
       "      <th>4</th>\n",
       "      <td>1471</td>\n",
       "      <td>1126</td>\n",
       "      <td>1268</td>\n",
       "      <td>My experience was on a random Saturday afterno...</td>\n",
       "      <td>2010-08-16</td>\n",
       "    </tr>\n",
       "  </tbody>\n",
       "</table>\n",
       "</div>"
      ],
      "text/plain": [
       "   review_id  business_id  user_id  \\\n",
       "0       2713          668     2196   \n",
       "1       4734         1014     3521   \n",
       "2       5598         2939     3028   \n",
       "3       9545         4077     6200   \n",
       "4       1471         1126     1268   \n",
       "\n",
       "                                                text        date  \n",
       "0  Ticoz is not a bad place.  The menu is eclecti...  2009-01-04  \n",
       "1  Wow!\\nBeing a Phoenix native, we have enjoyed ...  2010-10-05  \n",
       "2  Jodi is fantastic!  Extraordinary!  After too ...  2011-04-29  \n",
       "3  T&S Glass did a wonderful job replacing my car...  2007-10-02  \n",
       "4  My experience was on a random Saturday afterno...  2010-08-16  "
      ]
     },
     "execution_count": 4,
     "metadata": {},
     "output_type": "execute_result"
    }
   ],
   "source": [
    "test_data.head()"
   ]
  },
  {
   "cell_type": "code",
   "execution_count": 5,
   "metadata": {},
   "outputs": [
    {
     "name": "stdout",
     "output_type": "stream",
     "text": [
      "stars\n",
      "1     599\n",
      "2     741\n",
      "3    1168\n",
      "4    2820\n",
      "5    2669\n",
      "dtype: int64\n",
      "3.777666624984369\n"
     ]
    }
   ],
   "source": [
    "gp_star = train_data.groupby(['stars'])\n",
    "print(gp_star.size())\n",
    "print(train_data['stars'].mean())"
   ]
  },
  {
   "cell_type": "code",
   "execution_count": 6,
   "metadata": {},
   "outputs": [
    {
     "data": {
      "image/png": "[encoded data removed]",
      "text/plain": [
       "<matplotlib.figure.Figure at 0x7d1c3c8>"
      ]
     },
     "metadata": {},
     "output_type": "display_data"
    },
    {
     "name": "stdout",
     "output_type": "stream",
     "text": [
      "3.743\n"
     ]
    }
   ],
   "source": [
    "#Reset the order by review_id\n",
    "train_data_sort_review = train_data.sort_values(by=\"review_id\")\n",
    "train_data_sort_review.head()\n",
    "#To see the distributiona of star\n",
    "review_id_list = train_data_sort_review[\"review_id\"]\n",
    "stars_list = train_data_sort_review[\"stars\"]\n",
    "plt.scatter(review_id_list[0:1000], stars_list[0:1000])\n",
    "plt.show()\n",
    "#To check if it is random\n",
    "print(stars_list[0:1000].mean())"
   ]
  },
  {
   "cell_type": "code",
   "execution_count": 7,
   "metadata": {},
   "outputs": [],
   "source": [
    "#Saperate the date\n",
    "train_data_sort_review['date'] = pd.to_datetime(train_data_sort_review['date'])\n",
    "train_data_sort_review['view_year'] = train_data_sort_review['date'].dt.year\n",
    "train_data_sort_review['view_month'] = train_data_sort_review['date'].dt.month\n",
    "train_data_sort_review['view_day'] = train_data_sort_review['date'].dt.day\n",
    "test_data['date'] = pd.to_datetime(test_data['date'])\n",
    "test_data['view_year'] = test_data['date'].dt.year\n",
    "test_data['view_month'] = test_data['date'].dt.month\n",
    "test_data['view_day'] = test_data['date'].dt.day"
   ]
  },
  {
   "cell_type": "code",
   "execution_count": 8,
   "metadata": {},
   "outputs": [
    {
     "data": {
      "image/png": "[encoded data removed]",
      "text/plain": [
       "<matplotlib.figure.Figure at 0x7ec77f0>"
      ]
     },
     "metadata": {},
     "output_type": "display_data"
    }
   ],
   "source": [
    "f, axarr = plt.subplots(3, figsize=(15, 30))\n",
    "\n",
    "sns.countplot(x=\"view_year\", hue=\"stars\", data=train_data_sort_review, ax=axarr[0], palette=\"Set3\")\n",
    "sns.countplot(x=\"view_month\", hue=\"stars\", data=train_data_sort_review, ax=axarr[1], palette=\"Set3\")\n",
    "sns.countplot(x=\"view_day\", hue=\"stars\", data=train_data_sort_review, ax=axarr[2], palette=\"Set3\")\n",
    "\n",
    "axarr[0].set_title('view_year')\n",
    "axarr[0].legend(loc=\"best\")\n",
    "axarr[1].set_title('view_month')\n",
    "axarr[0].legend(loc=\"best\")\n",
    "axarr[2].set_title('view_day')\n",
    "axarr[2].legend(loc=\"best\")\n",
    "\n",
    "plt.show()"
   ]
  },
  {
   "cell_type": "code",
   "execution_count": null,
   "metadata": {},
   "outputs": [],
   "source": []
  }
 ],
 "metadata": {
  "kernelspec": {
   "display_name": "Python 3",
   "language": "python",
   "name": "python3"
  },
  "language_info": {
   "codemirror_mode": {
    "name": "ipython",
    "version": 3
   },
   "file_extension": ".py",
   "mimetype": "text/x-python",
   "name": "python",
   "nbconvert_exporter": "python",
   "pygments_lexer": "ipython3",
   "version": "3.6.4"
  }
 },
 "nbformat": 4,
 "nbformat_minor": 2
}
